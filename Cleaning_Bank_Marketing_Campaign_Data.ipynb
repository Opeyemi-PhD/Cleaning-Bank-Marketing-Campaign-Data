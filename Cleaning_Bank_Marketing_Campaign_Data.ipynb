{
 "cells": [
  {
   "cell_type": "markdown",
   "id": "1be5d1bd-9280-4845-b5ab-d321369c2aea",
   "metadata": {},
   "source": [
    "# Project: Cleaning Bank Marketing Campaign Data"
   ]
  },
  {
   "cell_type": "markdown",
   "id": "ce0e6b26",
   "metadata": {},
   "source": [
    "### Import required libraries"
   ]
  },
  {
   "cell_type": "code",
   "execution_count": 24,
   "id": "f03de131-7f4f-4db9-8dca-6f61f4dfbbf2",
   "metadata": {
    "executionCancelledAt": null,
    "executionTime": 7,
    "lastExecutedAt": 1760996936803,
    "lastExecutedByKernel": "022d2e81-318b-472a-8ea6-b38dd79b1a29",
    "lastScheduledRunId": null,
    "lastSuccessfullyExecutedCode": "# Imported required libraries, which are Pandas and NumPy, imported as pd and np respectively.  \nimport pandas as pd\nimport numpy as np",
    "outputsMetadata": {
     "0": {
      "height": 374,
      "type": "stream"
     }
    }
   },
   "outputs": [],
   "source": [
    "import pandas as pd\n",
    "import numpy as np"
   ]
  },
  {
   "cell_type": "markdown",
   "id": "0ac1ed3e",
   "metadata": {},
   "source": [
    "### Load and Inspect the Dataset"
   ]
  },
  {
   "cell_type": "code",
   "execution_count": 25,
   "id": "4cfae202-43b1-412b-b2e2-2f6e02424c91",
   "metadata": {
    "executionCancelledAt": null,
    "executionTime": 87,
    "lastExecutedAt": 1760996936891,
    "lastExecutedByKernel": "022d2e81-318b-472a-8ea6-b38dd79b1a29",
    "lastScheduledRunId": null,
    "lastSuccessfullyExecutedCode": "# Loaded the dataset bank_marketing.csv into a pandas DataFrame named bank_marketing  for analysis, using the pandas read_csv() function.\nbank_marketing = pd.read_csv(\"bank_marketing.csv\")\n\n# Displayed the first and last five rows of the bank_marketing DataFrame using the head() and tail() functions.\nprint(bank_marketing.head())\nprint(\"------------------------------------------------------------------\")\nprint(bank_marketing.tail())",
    "outputsMetadata": {
     "0": {
      "height": 374,
      "type": "stream"
     }
    }
   },
   "outputs": [
    {
     "name": "stdout",
     "output_type": "stream",
     "text": [
      "   client_id  age        job  marital    education credit_default mortgage  \\\n",
      "0          0   56  housemaid  married     basic.4y             no       no   \n",
      "1          1   57   services  married  high.school        unknown       no   \n",
      "2          2   37   services  married  high.school             no      yes   \n",
      "3          3   40     admin.  married     basic.6y             no       no   \n",
      "4          4   56   services  married  high.school             no       no   \n",
      "\n",
      "  month  day  contact_duration  number_contacts  previous_campaign_contacts  \\\n",
      "0   may   13               261                1                           0   \n",
      "1   may   19               149                1                           0   \n",
      "2   may   23               226                1                           0   \n",
      "3   may   27               151                1                           0   \n",
      "4   may    3               307                1                           0   \n",
      "\n",
      "  previous_outcome  cons_price_idx  euribor_three_months campaign_outcome  \n",
      "0      nonexistent          93.994                 4.857               no  \n",
      "1      nonexistent          93.994                 4.857               no  \n",
      "2      nonexistent          93.994                 4.857               no  \n",
      "3      nonexistent          93.994                 4.857               no  \n",
      "4      nonexistent          93.994                 4.857               no  \n",
      "------------------------------------------------------------------\n",
      "       client_id  age          job  marital            education  \\\n",
      "41183      41183   73      retired  married  professional.course   \n",
      "41184      41184   46  blue-collar  married  professional.course   \n",
      "41185      41185   56      retired  married    university.degree   \n",
      "41186      41186   44   technician  married  professional.course   \n",
      "41187      41187   74      retired  married  professional.course   \n",
      "\n",
      "      credit_default mortgage month  day  contact_duration  number_contacts  \\\n",
      "41183             no      yes   nov   30               334                1   \n",
      "41184             no       no   nov    6               383                1   \n",
      "41185             no      yes   nov   24               189                2   \n",
      "41186             no       no   nov   17               442                1   \n",
      "41187             no      yes   nov   23               239                3   \n",
      "\n",
      "       previous_campaign_contacts previous_outcome  cons_price_idx  \\\n",
      "41183                           0      nonexistent          94.767   \n",
      "41184                           0      nonexistent          94.767   \n",
      "41185                           0      nonexistent          94.767   \n",
      "41186                           0      nonexistent          94.767   \n",
      "41187                           1          failure          94.767   \n",
      "\n",
      "       euribor_three_months campaign_outcome  \n",
      "41183                 1.028              yes  \n",
      "41184                 1.028               no  \n",
      "41185                 1.028               no  \n",
      "41186                 1.028              yes  \n",
      "41187                 1.028               no  \n"
     ]
    }
   ],
   "source": [
    "# Load the dataset bank_marketing.csv into a pandas DataFrame named bank_marketing  for analysis, using the pandas read_csv() function.\n",
    "bank_marketing = pd.read_csv(\"bank_marketing.csv\")\n",
    "\n",
    "# Display the first and last five rows of the bank_marketing DataFrame using the head() and tail() functions.\n",
    "print(bank_marketing.head())\n",
    "print(\"------------------------------------------------------------------\")\n",
    "print(bank_marketing.tail())\n"
   ]
  },
  {
   "cell_type": "markdown",
   "id": "9ca0da4e",
   "metadata": {},
   "source": [
    "### Display Summary of the DataFrame"
   ]
  },
  {
   "cell_type": "code",
   "execution_count": 26,
   "id": "a9f47602-e744-4f72-9d17-b0452b691add",
   "metadata": {
    "executionCancelledAt": null,
    "executionTime": 50,
    "lastExecutedAt": 1760996936941,
    "lastExecutedByKernel": "022d2e81-318b-472a-8ea6-b38dd79b1a29",
    "lastScheduledRunId": null,
    "lastSuccessfullyExecutedCode": "# Obtained a brief summary of the bank_marketing DataFrame using the info() function\nbank_marketing.info()",
    "outputsMetadata": {
     "0": {
      "height": 468,
      "type": "stream"
     }
    }
   },
   "outputs": [
    {
     "name": "stdout",
     "output_type": "stream",
     "text": [
      "<class 'pandas.core.frame.DataFrame'>\n",
      "RangeIndex: 41188 entries, 0 to 41187\n",
      "Data columns (total 16 columns):\n",
      " #   Column                      Non-Null Count  Dtype  \n",
      "---  ------                      --------------  -----  \n",
      " 0   client_id                   41188 non-null  int64  \n",
      " 1   age                         41188 non-null  int64  \n",
      " 2   job                         41188 non-null  object \n",
      " 3   marital                     41188 non-null  object \n",
      " 4   education                   41188 non-null  object \n",
      " 5   credit_default              41188 non-null  object \n",
      " 6   mortgage                    41188 non-null  object \n",
      " 7   month                       41188 non-null  object \n",
      " 8   day                         41188 non-null  int64  \n",
      " 9   contact_duration            41188 non-null  int64  \n",
      " 10  number_contacts             41188 non-null  int64  \n",
      " 11  previous_campaign_contacts  41188 non-null  int64  \n",
      " 12  previous_outcome            41188 non-null  object \n",
      " 13  cons_price_idx              41188 non-null  float64\n",
      " 14  euribor_three_months        41188 non-null  float64\n",
      " 15  campaign_outcome            41188 non-null  object \n",
      "dtypes: float64(2), int64(6), object(8)\n",
      "memory usage: 5.0+ MB\n"
     ]
    }
   ],
   "source": [
    "# Obtain a brief summary of the bank_marketing DataFrame using the info() function\n",
    "bank_marketing.info()"
   ]
  },
  {
   "cell_type": "markdown",
   "id": "4871b336",
   "metadata": {},
   "source": [
    "### Clean and Format Categorical Columns"
   ]
  },
  {
   "cell_type": "code",
   "execution_count": 27,
   "id": "26b5a80d-b698-4fdd-9aa9-d8938a8b55a2",
   "metadata": {
    "executionCancelledAt": null,
    "executionTime": 54,
    "lastExecutedAt": 1760996936995,
    "lastExecutedByKernel": "022d2e81-318b-472a-8ea6-b38dd79b1a29",
    "lastScheduledRunId": null,
    "lastSuccessfullyExecutedCode": "# Cleaned the job column by replacing \".\" with \"_\".\nbank_marketing[\"job\"] = bank_marketing[\"job\"].str.replace(\".\", \"_\")\n\n# Cleaned the education column by replacing \"unknown\" values with np.NaN and \".\" with \"_\".\nbank_marketing[\"education\"] = bank_marketing[\"education\"].replace(\"unknown\", np.nan)\nbank_marketing[\"education\"] = bank_marketing[\"education\"].str.replace(\".\", \"_\")\n"
   },
   "outputs": [],
   "source": [
    "# Clean the job column by replacing \".\" with \"_\".\n",
    "bank_marketing[\"job\"] = bank_marketing[\"job\"].str.replace(\".\", \"_\")\n",
    "\n",
    "# Clean the education column by replacing \"unknown\" values with np.NaN and \".\" with \"_\".\n",
    "bank_marketing[\"education\"] = bank_marketing[\"education\"].replace(\"unknown\", np.nan)\n",
    "bank_marketing[\"education\"] = bank_marketing[\"education\"].str.replace(\".\", \"_\")\n"
   ]
  },
  {
   "cell_type": "markdown",
   "id": "6ad1be3b",
   "metadata": {},
   "source": [
    "### Convert Object Columns to Boolean Data Types"
   ]
  },
  {
   "cell_type": "code",
   "execution_count": 28,
   "id": "78ecf02a-b741-4695-a5c3-99dce7a127e2",
   "metadata": {
    "executionCancelledAt": null,
    "executionTime": null,
    "lastExecutedAt": null,
    "lastExecutedByKernel": null,
    "lastScheduledRunId": null,
    "lastSuccessfullyExecutedCode": null,
    "outputsMetadata": {
     "0": {
      "height": 101,
      "type": "stream"
     }
    }
   },
   "outputs": [
    {
     "name": "stdout",
     "output_type": "stream",
     "text": [
      "credit_default : ['no' 'unknown' 'yes']\n",
      "mortgage : ['no' 'yes' 'unknown']\n",
      "previous_outcome : ['nonexistent' 'failure' 'success']\n",
      "campaign_outcome : ['no' 'yes']\n"
     ]
    }
   ],
   "source": [
    "# Iterate through the credit_default, mortgage, previous_outcome, and campaign_outcome columns to display their unique values with the unique() function.\n",
    "for col in [\"credit_default\", \"mortgage\", \"previous_outcome\", \"campaign_outcome\"]:\n",
    "    print(col, \":\",  bank_marketing[col].unique())"
   ]
  },
  {
   "cell_type": "code",
   "execution_count": 29,
   "id": "e2edad3c-8286-4983-b5b7-35d94fd78023",
   "metadata": {
    "executionCancelledAt": null,
    "executionTime": 59,
    "lastExecutedAt": 1760996937112,
    "lastExecutedByKernel": "022d2e81-318b-472a-8ea6-b38dd79b1a29",
    "lastScheduledRunId": null,
    "lastSuccessfullyExecutedCode": "# Converted the values in the credit_default column such that \"yes\" was replaced with \"1\" and all other values with \"0\". The column was then converted from string to integer and finally to boolean data type. \nbank_marketing.loc[bank_marketing[\"credit_default\"] == \"yes\", \"credit_default\"] = \"1\"\nbank_marketing.loc[bank_marketing[\"credit_default\"] != \"1\", \"credit_default\"] = \"0\"\nbank_marketing[\"credit_default\"] = bank_marketing[\"credit_default\"].astype(\"int\")\nbank_marketing[\"credit_default\"] = bank_marketing[\"credit_default\"].astype(\"boolean\")\n\n# Converted the values in the mortgage column such that \"yes\" was replaced with \"1\" and all other values with \"0\". The column was then converted from string to integer and finally to boolean data type. \nbank_marketing.loc[bank_marketing[\"mortgage\"] == \"yes\", \"mortgage\"] = \"1\"\nbank_marketing.loc[bank_marketing[\"mortgage\"] != \"1\", \"mortgage\"] = \"0\"\nbank_marketing[\"mortgage\"] = bank_marketing[\"mortgage\"].astype(\"int\")\nbank_marketing[\"mortgage\"] = bank_marketing[\"mortgage\"].astype(\"boolean\")\n\n# Checked for the unique values in the previous_outcome, then converted the values in the column such that \"success\" was replaced with \"1\" and all other values with \"0\". The column was then converted from string to integer and finally to boolean data type.\nbank_marketing[\"previous_outcome\"].unique()\nbank_marketing.loc[bank_marketing[\"previous_outcome\"] == \"success\", \"previous_outcome\"] = \"1\"\nbank_marketing.loc[bank_marketing[\"previous_outcome\"] != \"1\", \"previous_outcome\"] = \"0\"\nbank_marketing[\"previous_outcome\"] = bank_marketing[\"previous_outcome\"].astype(\"int\")\nbank_marketing[\"previous_outcome\"] = bank_marketing[\"previous_outcome\"].astype(\"boolean\")\n\n# Converted the values in the mortgage column such that \"yes\" was replaced with \"1\" and all other values with \"0\". The column was then converted from string to integer and finally to boolean data type.\nbank_marketing.loc[bank_marketing[\"campaign_outcome\"] == \"yes\", \"campaign_outcome\"] = \"1\"\nbank_marketing.loc[bank_marketing[\"campaign_outcome\"] != \"1\", \"campaign_outcome\"] = \"0\"\nbank_marketing[\"campaign_outcome\"] = bank_marketing[\"campaign_outcome\"].astype(\"int\")\nbank_marketing[\"campaign_outcome\"] = bank_marketing[\"campaign_outcome\"].astype(\"boolean\")",
    "outputsMetadata": {
     "0": {
      "height": 59,
      "type": "stream"
     },
     "1": {
      "height": 550,
      "tableState": {
       "customFilter": {
        "const": {
         "type": "boolean",
         "valid": true,
         "value": true
        },
        "id": "13250169-fe76-4932-8197-a55ea3a9b968",
        "nodeType": "const"
       }
      },
      "type": "dataFrame"
     }
    }
   },
   "outputs": [],
   "source": [
    "# Convert the values in the credit_default column such that \"yes\" is replaced with \"1\" and all other values with \"0\". The column is converted from string to integer and finally to boolean data type. \n",
    "bank_marketing.loc[bank_marketing[\"credit_default\"] == \"yes\", \"credit_default\"] = \"1\"\n",
    "bank_marketing.loc[bank_marketing[\"credit_default\"] != \"1\", \"credit_default\"] = \"0\"\n",
    "bank_marketing[\"credit_default\"] = bank_marketing[\"credit_default\"].astype(\"int\")\n",
    "bank_marketing[\"credit_default\"] = bank_marketing[\"credit_default\"].astype(\"boolean\")\n",
    "\n",
    "# Convert the values in the mortgage column such that \"yes\" is replaced with \"1\" and all other values with \"0\". The column is converted from string to integer and finally to boolean data type. \n",
    "bank_marketing.loc[bank_marketing[\"mortgage\"] == \"yes\", \"mortgage\"] = \"1\"\n",
    "bank_marketing.loc[bank_marketing[\"mortgage\"] != \"1\", \"mortgage\"] = \"0\"\n",
    "bank_marketing[\"mortgage\"] = bank_marketing[\"mortgage\"].astype(\"int\")\n",
    "bank_marketing[\"mortgage\"] = bank_marketing[\"mortgage\"].astype(\"boolean\")\n",
    "\n",
    "# Check for the unique values in the previous_outcome column, convert the values in the column such that \"success\" is replaced with \"1\" and all other values with \"0\". The column is converted from string to integer and finally to boolean data type.\n",
    "bank_marketing[\"previous_outcome\"].unique()\n",
    "bank_marketing.loc[bank_marketing[\"previous_outcome\"] == \"success\", \"previous_outcome\"] = \"1\"\n",
    "bank_marketing.loc[bank_marketing[\"previous_outcome\"] != \"1\", \"previous_outcome\"] = \"0\"\n",
    "bank_marketing[\"previous_outcome\"] = bank_marketing[\"previous_outcome\"].astype(\"int\")\n",
    "bank_marketing[\"previous_outcome\"] = bank_marketing[\"previous_outcome\"].astype(\"boolean\")\n",
    "\n",
    "# Convert the values in the mortgage column such that \"yes\" is replaced with \"1\" and all other values with \"0\". The column is converted from string to integer and finally to boolean data type.\n",
    "bank_marketing.loc[bank_marketing[\"campaign_outcome\"] == \"yes\", \"campaign_outcome\"] = \"1\"\n",
    "bank_marketing.loc[bank_marketing[\"campaign_outcome\"] != \"1\", \"campaign_outcome\"] = \"0\"\n",
    "bank_marketing[\"campaign_outcome\"] = bank_marketing[\"campaign_outcome\"].astype(\"int\")\n",
    "bank_marketing[\"campaign_outcome\"] = bank_marketing[\"campaign_outcome\"].astype(\"boolean\")"
   ]
  },
  {
   "cell_type": "markdown",
   "id": "5eda6cb9",
   "metadata": {},
   "source": [
    "### Create and Format Date Columns"
   ]
  },
  {
   "cell_type": "code",
   "execution_count": 30,
   "id": "4c57b4a8-9b5c-4a1a-97ae-d0a0cc0f72c2",
   "metadata": {
    "executionCancelledAt": null,
    "executionTime": 68,
    "lastExecutedAt": 1760996937182,
    "lastExecutedByKernel": "022d2e81-318b-472a-8ea6-b38dd79b1a29",
    "lastScheduledRunId": null,
    "lastSuccessfullyExecutedCode": "#Reformatted the values in the day and month column by converting them from integer to string data type.\nbank_marketing[\"day\"] = bank_marketing[\"day\"].astype(str)\nbank_marketing[\"month\"] = bank_marketing[\"month\"].astype(str)\n\n# Concatenated the day and the month columns to create a new column named day_month.\nbank_marketing[\"day_month\"] = bank_marketing[\"day\"] + bank_marketing[\"month\"]\n\n# Created a new column named year with all values set to 2022, formatted as string data type.\nbank_marketing[\"year\"] = 2022\nbank_marketing[\"year\"] = bank_marketing[\"year\"].astype(\"str\")\n\n# Concatenated the day_month and the year columns to create a new column named last_contact_date, and its values are then formatted as string data type.\nbank_marketing[\"last_contact_date\"] = bank_marketing[\"day_month\"] + bank_marketing[\"year\"]\nbank_marketing[\"last_contact_date\"] = pd.to_datetime(bank_marketing[\"last_contact_date\"])"
   },
   "outputs": [
    {
     "name": "stderr",
     "output_type": "stream",
     "text": [
      "C:\\Users\\USER\\AppData\\Local\\Temp\\ipykernel_14940\\1185383178.py:14: UserWarning: Could not infer format, so each element will be parsed individually, falling back to `dateutil`. To ensure parsing is consistent and as-expected, please specify a format.\n",
      "  bank_marketing[\"last_contact_date\"] = pd.to_datetime(bank_marketing[\"last_contact_date\"])\n"
     ]
    }
   ],
   "source": [
    "#Reformat the values in the day and month column by converting them from integer to string data type.\n",
    "bank_marketing[\"day\"] = bank_marketing[\"day\"].astype(str)\n",
    "bank_marketing[\"month\"] = bank_marketing[\"month\"].astype(str)\n",
    "\n",
    "# Concatenate the day and the month columns to create a new column, day_month.\n",
    "bank_marketing[\"day_month\"] = bank_marketing[\"day\"] + bank_marketing[\"month\"]\n",
    "\n",
    "# Create a new column year with all values set to 2022, format as string data type.\n",
    "bank_marketing[\"year\"] = 2022\n",
    "bank_marketing[\"year\"] = bank_marketing[\"year\"].astype(\"str\")\n",
    "\n",
    "# Concatenate the day_month and the year columns to create a new column last_contact_date, and its values are formatted as string data type.\n",
    "bank_marketing[\"last_contact_date\"] = bank_marketing[\"day_month\"] + bank_marketing[\"year\"]\n",
    "bank_marketing[\"last_contact_date\"] = pd.to_datetime(bank_marketing[\"last_contact_date\"])"
   ]
  },
  {
   "cell_type": "markdown",
   "id": "faad74a4",
   "metadata": {},
   "source": [
    "### Create Subsets of the DataFrame"
   ]
  },
  {
   "cell_type": "code",
   "execution_count": 31,
   "id": "8498d5c5-bac7-4131-bb1d-e87a991cd5c5",
   "metadata": {
    "executionCancelledAt": null,
    "executionTime": 48,
    "lastExecutedAt": 1760996937231,
    "lastExecutedByKernel": "022d2e81-318b-472a-8ea6-b38dd79b1a29",
    "lastScheduledRunId": null,
    "lastSuccessfullyExecutedCode": "# Created a new DataFrame named client_df by subsetting the following columns from the bank_marketing DataFrame: client_id, age, job, marital, education, credit_default, and mortgage.\nClient = bank_marketing[[\"client_id\", \"age\", \"job\", \"marital\", \"education\", \"credit_default\", \"mortgage\"]]\n\n# Created a new DataFrame named economics_df by subsetting the following columns from the bank_marketing DataFrame: client_id, cons_price_idx, and euribor_three_months.\nEconomics = bank_marketing[[\"client_id\", \"cons_price_idx\", \"euribor_three_months\"]]\n\n# Created a new DataFrame named campaign_df by subsetting the following columns from the bank_marketing DataFrame: client_id, number_contacts, contact_duration, previous_campaign_contacts, previous_outcome, campaign_outcome,and last_contact_date.\nCampaign = bank_marketing[[\"client_id\", \"number_contacts\", \"contact_duration\", \"previous_campaign_contacts\", \"previous_outcome\", \"campaign_outcome\", \"last_contact_date\"]]",
    "outputsMetadata": {
     "0": {
      "height": 468,
      "type": "stream"
     }
    }
   },
   "outputs": [],
   "source": [
    "# Create a new DataFrame client_df by subsetting the following columns from the bank_marketing DataFrame: client_id, age, job, marital, education, credit_default, and mortgage.\n",
    "Client = bank_marketing[[\"client_id\", \"age\", \"job\", \"marital\", \"education\", \"credit_default\", \"mortgage\"]]\n",
    "\n",
    "# Create a new DataFrame economics_df by subsetting the following columns from the bank_marketing DataFrame: client_id, cons_price_idx, and euribor_three_months.\n",
    "Economics = bank_marketing[[\"client_id\", \"cons_price_idx\", \"euribor_three_months\"]]\n",
    "\n",
    "# Create a new DataFrame campaign_df by subsetting the following columns from the bank_marketing DataFrame: client_id, number_contacts, contact_duration, previous_campaign_contacts, previous_outcome, campaign_outcome,and last_contact_date.\n",
    "Campaign = bank_marketing[[\"client_id\", \"number_contacts\", \"contact_duration\", \"previous_campaign_contacts\", \"previous_outcome\", \"campaign_outcome\", \"last_contact_date\"]]"
   ]
  },
  {
   "cell_type": "markdown",
   "id": "8c7afbff",
   "metadata": {},
   "source": [
    "### Display DataFrame Samples"
   ]
  },
  {
   "cell_type": "code",
   "execution_count": 32,
   "id": "5481a881-e374-4284-9881-85de483d269c",
   "metadata": {
    "executionCancelledAt": null,
    "executionTime": null,
    "lastExecutedAt": null,
    "lastExecutedByKernel": null,
    "lastScheduledRunId": null,
    "lastSuccessfullyExecutedCode": null,
    "outputsMetadata": {
     "0": {
      "height": 468,
      "type": "stream"
     }
    }
   },
   "outputs": [
    {
     "name": "stdout",
     "output_type": "stream",
     "text": [
      "   client_id  age        job  marital    education  credit_default  mortgage\n",
      "0          0   56  housemaid  married     basic_4y           False     False\n",
      "1          1   57   services  married  high_school           False     False\n",
      "2          2   37   services  married  high_school           False      True\n",
      "3          3   40     admin_  married     basic_6y           False     False\n",
      "4          4   56   services  married  high_school           False     False\n",
      "--------------------------------------------------------------------\n",
      "   client_id  cons_price_idx  euribor_three_months\n",
      "0          0          93.994                 4.857\n",
      "1          1          93.994                 4.857\n",
      "2          2          93.994                 4.857\n",
      "3          3          93.994                 4.857\n",
      "4          4          93.994                 4.857\n",
      "--------------------------------------------------------------------\n",
      "   client_id  number_contacts  contact_duration  previous_campaign_contacts  \\\n",
      "0          0                1               261                           0   \n",
      "1          1                1               149                           0   \n",
      "2          2                1               226                           0   \n",
      "3          3                1               151                           0   \n",
      "4          4                1               307                           0   \n",
      "\n",
      "   previous_outcome  campaign_outcome last_contact_date  \n",
      "0             False             False        2022-05-13  \n",
      "1             False             False        2022-05-19  \n",
      "2             False             False        2022-05-23  \n",
      "3             False             False        2022-05-27  \n",
      "4             False             False        2022-05-03  \n",
      "--------------------------------------------------------------------\n"
     ]
    }
   ],
   "source": [
    "# Store the created DataFrames in a list for iteration.\n",
    "New_DataFrames = [Client, Economics, Campaign]\n",
    "\n",
    "# Iterate through the New_Dataframes list to print the first five rows of each created DataFrame.\n",
    "for DataFrame in New_DataFrames:\n",
    "    print(DataFrame.head())\n",
    "    print(\"--------------------------------------------------------------------\")"
   ]
  },
  {
   "cell_type": "markdown",
   "id": "de2babef",
   "metadata": {},
   "source": [
    "### Export Cleaned Datasets"
   ]
  },
  {
   "cell_type": "code",
   "execution_count": 33,
   "id": "ec426795-f91f-4714-9da3-0a7676ff740c",
   "metadata": {
    "executionCancelledAt": null,
    "executionTime": 491,
    "lastExecutedAt": 1760996937784,
    "lastExecutedByKernel": "022d2e81-318b-472a-8ea6-b38dd79b1a29",
    "lastScheduledRunId": null,
    "lastSuccessfullyExecutedCode": "# Saved the DataFrames client_df, economics_df, and campaign_df as separate CSV files without indices (by setting the index argument to False).\nClient.to_csv(\"client.csv\", index=False)\nEconomics.to_csv(\"economics.csv\", index=False)\nCampaign.to_csv(\"campaign.csv\", index=False)"
   },
   "outputs": [],
   "source": [
    "# Save the DataFrames client_df, economics_df, and campaign_df as separate CSV files without indices (by setting the index argument to False).\n",
    "Client.to_csv(\"client.csv\", index=False)\n",
    "Economics.to_csv(\"economics.csv\", index=False)\n",
    "Campaign.to_csv(\"campaign.csv\", index=False)"
   ]
  }
 ],
 "metadata": {
  "editor": "DataLab",
  "kernelspec": {
   "display_name": "base",
   "language": "python",
   "name": "python3"
  },
  "language_info": {
   "codemirror_mode": {
    "name": "ipython",
    "version": 3
   },
   "file_extension": ".py",
   "mimetype": "text/x-python",
   "name": "python",
   "nbconvert_exporter": "python",
   "pygments_lexer": "ipython3",
   "version": "3.12.4"
  }
 },
 "nbformat": 4,
 "nbformat_minor": 5
}
